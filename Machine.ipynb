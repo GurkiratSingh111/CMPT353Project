{
 "cells": [
  {
   "cell_type": "code",
   "execution_count": 1,
   "metadata": {},
   "outputs": [
    {
     "name": "stderr",
     "output_type": "stream",
     "text": [
      "/var/folders/qx/dv5zms194lj0k025kmnl22jh0000gn/T/ipykernel_39848/3757014114.py:2: DeprecationWarning: \n",
      "Pyarrow will become a required dependency of pandas in the next major release of pandas (pandas 3.0),\n",
      "(to allow more performant data types, such as the Arrow string type, and better interoperability with other libraries)\n",
      "but was not found to be installed on your system.\n",
      "If this would cause problems for you,\n",
      "please provide us feedback at https://github.com/pandas-dev/pandas/issues/54466\n",
      "        \n",
      "  import pandas as pd\n"
     ]
    }
   ],
   "source": [
    "import sys\n",
    "import pandas as pd\n",
    "import numpy as nd\n",
    "from sklearn.model_selection import train_test_split\n",
    "from sklearn.pipeline import make_pipeline\n",
    "from sklearn.preprocessing import FunctionTransformer\n",
    "from statsmodels.nonparametric.smoothers_lowess import lowess\n",
    "from sklearn.naive_bayes import GaussianNB\n",
    "from sklearn.ensemble import RandomForestClassifier, VotingClassifier\n",
    "from sklearn.neighbors import KNeighborsClassifier\n",
    "from sklearn.decomposition import PCA"
   ]
  },
  {
   "cell_type": "code",
   "execution_count": 4,
   "metadata": {},
   "outputs": [],
   "source": [
    "#Loading the data\n",
    "Ankle = pd.read_csv('training/all_ankle.csv')\n",
    "Ankle['Label'] = 'ankle'\n",
    "\n",
    "Hand = pd.read_csv('training/all_hand.csv')\n",
    "Hand['Label'] = 'hand'\n",
    "\n",
    "Pocket = pd.read_csv('training/all_pocket.csv')\n",
    "Pocket['Label'] = 'pocket'"
   ]
  },
  {
   "cell_type": "code",
   "execution_count": 5,
   "metadata": {},
   "outputs": [],
   "source": [
    "#Reshape function for the conversion\n",
    "def reshape(X):\n",
    "\tX = X.reshape(-1,1)\n",
    "\treturn X"
   ]
  },
  {
   "cell_type": "code",
   "execution_count": 9,
   "metadata": {},
   "outputs": [
    {
     "data": {
      "text/html": [
       "<div>\n",
       "<style scoped>\n",
       "    .dataframe tbody tr th:only-of-type {\n",
       "        vertical-align: middle;\n",
       "    }\n",
       "\n",
       "    .dataframe tbody tr th {\n",
       "        vertical-align: top;\n",
       "    }\n",
       "\n",
       "    .dataframe thead th {\n",
       "        text-align: right;\n",
       "    }\n",
       "</style>\n",
       "<table border=\"1\" class=\"dataframe\">\n",
       "  <thead>\n",
       "    <tr style=\"text-align: right;\">\n",
       "      <th></th>\n",
       "      <th>Unnamed: 0.1</th>\n",
       "      <th>Unnamed: 0</th>\n",
       "      <th>time</th>\n",
       "      <th>New_AccelerationX</th>\n",
       "      <th>New_AccelerationY</th>\n",
       "      <th>New_AccelerationZ</th>\n",
       "      <th>new_NetAcceleration</th>\n",
       "      <th>Label</th>\n",
       "    </tr>\n",
       "  </thead>\n",
       "  <tbody>\n",
       "    <tr>\n",
       "      <th>0</th>\n",
       "      <td>0</td>\n",
       "      <td>991</td>\n",
       "      <td>10.000528</td>\n",
       "      <td>-0.122074</td>\n",
       "      <td>0.001139</td>\n",
       "      <td>-0.424244</td>\n",
       "      <td>0.441460</td>\n",
       "      <td>ankle</td>\n",
       "    </tr>\n",
       "    <tr>\n",
       "      <th>1</th>\n",
       "      <td>1</td>\n",
       "      <td>992</td>\n",
       "      <td>10.010473</td>\n",
       "      <td>-0.235877</td>\n",
       "      <td>0.040632</td>\n",
       "      <td>-0.315495</td>\n",
       "      <td>0.396012</td>\n",
       "      <td>ankle</td>\n",
       "    </tr>\n",
       "    <tr>\n",
       "      <th>2</th>\n",
       "      <td>2</td>\n",
       "      <td>993</td>\n",
       "      <td>10.027937</td>\n",
       "      <td>-0.342584</td>\n",
       "      <td>0.071725</td>\n",
       "      <td>-0.208561</td>\n",
       "      <td>0.407438</td>\n",
       "      <td>ankle</td>\n",
       "    </tr>\n",
       "    <tr>\n",
       "      <th>3</th>\n",
       "      <td>3</td>\n",
       "      <td>994</td>\n",
       "      <td>10.030507</td>\n",
       "      <td>-0.441301</td>\n",
       "      <td>0.099962</td>\n",
       "      <td>-0.107277</td>\n",
       "      <td>0.465024</td>\n",
       "      <td>ankle</td>\n",
       "    </tr>\n",
       "    <tr>\n",
       "      <th>4</th>\n",
       "      <td>4</td>\n",
       "      <td>995</td>\n",
       "      <td>10.042176</td>\n",
       "      <td>-0.532931</td>\n",
       "      <td>0.133160</td>\n",
       "      <td>-0.015711</td>\n",
       "      <td>0.549539</td>\n",
       "      <td>ankle</td>\n",
       "    </tr>\n",
       "    <tr>\n",
       "      <th>...</th>\n",
       "      <td>...</td>\n",
       "      <td>...</td>\n",
       "      <td>...</td>\n",
       "      <td>...</td>\n",
       "      <td>...</td>\n",
       "      <td>...</td>\n",
       "      <td>...</td>\n",
       "      <td>...</td>\n",
       "    </tr>\n",
       "    <tr>\n",
       "      <th>163839</th>\n",
       "      <td>54829</td>\n",
       "      <td>7976</td>\n",
       "      <td>79.954151</td>\n",
       "      <td>-1.525626</td>\n",
       "      <td>1.876997</td>\n",
       "      <td>2.954539</td>\n",
       "      <td>3.818371</td>\n",
       "      <td>pocket</td>\n",
       "    </tr>\n",
       "    <tr>\n",
       "      <th>163840</th>\n",
       "      <td>54830</td>\n",
       "      <td>7977</td>\n",
       "      <td>79.960578</td>\n",
       "      <td>-1.632666</td>\n",
       "      <td>2.132361</td>\n",
       "      <td>2.753148</td>\n",
       "      <td>3.846087</td>\n",
       "      <td>pocket</td>\n",
       "    </tr>\n",
       "    <tr>\n",
       "      <th>163841</th>\n",
       "      <td>54831</td>\n",
       "      <td>7978</td>\n",
       "      <td>79.971639</td>\n",
       "      <td>-1.727352</td>\n",
       "      <td>2.402938</td>\n",
       "      <td>2.538877</td>\n",
       "      <td>3.899199</td>\n",
       "      <td>pocket</td>\n",
       "    </tr>\n",
       "    <tr>\n",
       "      <th>163842</th>\n",
       "      <td>54832</td>\n",
       "      <td>7979</td>\n",
       "      <td>79.981142</td>\n",
       "      <td>-1.809692</td>\n",
       "      <td>2.679992</td>\n",
       "      <td>2.318340</td>\n",
       "      <td>3.978950</td>\n",
       "      <td>pocket</td>\n",
       "    </tr>\n",
       "    <tr>\n",
       "      <th>163843</th>\n",
       "      <td>54833</td>\n",
       "      <td>7980</td>\n",
       "      <td>79.991363</td>\n",
       "      <td>-1.880919</td>\n",
       "      <td>2.955776</td>\n",
       "      <td>2.098963</td>\n",
       "      <td>4.084130</td>\n",
       "      <td>pocket</td>\n",
       "    </tr>\n",
       "  </tbody>\n",
       "</table>\n",
       "<p>163844 rows × 8 columns</p>\n",
       "</div>"
      ],
      "text/plain": [
       "        Unnamed: 0.1  Unnamed: 0       time  New_AccelerationX  \\\n",
       "0                  0         991  10.000528          -0.122074   \n",
       "1                  1         992  10.010473          -0.235877   \n",
       "2                  2         993  10.027937          -0.342584   \n",
       "3                  3         994  10.030507          -0.441301   \n",
       "4                  4         995  10.042176          -0.532931   \n",
       "...              ...         ...        ...                ...   \n",
       "163839         54829        7976  79.954151          -1.525626   \n",
       "163840         54830        7977  79.960578          -1.632666   \n",
       "163841         54831        7978  79.971639          -1.727352   \n",
       "163842         54832        7979  79.981142          -1.809692   \n",
       "163843         54833        7980  79.991363          -1.880919   \n",
       "\n",
       "        New_AccelerationY  New_AccelerationZ  new_NetAcceleration   Label  \n",
       "0                0.001139          -0.424244             0.441460   ankle  \n",
       "1                0.040632          -0.315495             0.396012   ankle  \n",
       "2                0.071725          -0.208561             0.407438   ankle  \n",
       "3                0.099962          -0.107277             0.465024   ankle  \n",
       "4                0.133160          -0.015711             0.549539   ankle  \n",
       "...                   ...                ...                  ...     ...  \n",
       "163839           1.876997           2.954539             3.818371  pocket  \n",
       "163840           2.132361           2.753148             3.846087  pocket  \n",
       "163841           2.402938           2.538877             3.899199  pocket  \n",
       "163842           2.679992           2.318340             3.978950  pocket  \n",
       "163843           2.955776           2.098963             4.084130  pocket  \n",
       "\n",
       "[163844 rows x 8 columns]"
      ]
     },
     "execution_count": 9,
     "metadata": {},
     "output_type": "execute_result"
    }
   ],
   "source": [
    "data = pd.concat([Ankle,Hand,Pocket],ignore_index=True)\n",
    "data\n"
   ]
  },
  {
   "cell_type": "code",
   "execution_count": 12,
   "metadata": {},
   "outputs": [],
   "source": [
    "\n",
    "X = data[['New_AccelerationX','New_AccelerationY','New_AccelerationZ','new_NetAcceleration']]\n",
    "y = data['Label']"
   ]
  },
  {
   "cell_type": "code",
   "execution_count": 13,
   "metadata": {},
   "outputs": [],
   "source": [
    "from sklearn.preprocessing import StandardScaler\n",
    "from sklearn.tree import DecisionTreeClassifier\n",
    "\n",
    "X_train, X_valid, y_train, y_valid = train_test_split(X, y)"
   ]
  },
  {
   "cell_type": "code",
   "execution_count": 14,
   "metadata": {},
   "outputs": [
    {
     "name": "stdout",
     "output_type": "stream",
     "text": [
      "Train Score:  0.5537869355403107\n",
      "Valid Score:  0.557408266399746\n"
     ]
    }
   ],
   "source": [
    "#Naive Bayes (Gaussian)\n",
    "model = make_pipeline(\n",
    "    GaussianNB()\n",
    ")\n",
    "model.fit(X_train,y_train)\n",
    "print(\"Train Score: \",model.score(X_train, y_train))\n",
    "print(\"Valid Score: \",model.score(X_valid,y_valid))"
   ]
  },
  {
   "cell_type": "code",
   "execution_count": 25,
   "metadata": {},
   "outputs": [
    {
     "name": "stdout",
     "output_type": "stream",
     "text": [
      "Train Score:  0.6868891547244127\n",
      "Valid Score:  0.6822587339176289\n"
     ]
    }
   ],
   "source": [
    "# Decision Tree\n",
    "model = DecisionTreeClassifier(max_depth=8)\n",
    "model.fit(X_train, y_train)\n",
    "print(\"Train Score: \",model.score(X_train, y_train))\n",
    "print(\"Valid Score: \", model.score(X_valid, y_valid))"
   ]
  },
  {
   "cell_type": "code",
   "execution_count": 23,
   "metadata": {},
   "outputs": [
    {
     "name": "stdout",
     "output_type": "stream",
     "text": [
      "Train Score:  0.7753798328491329\n",
      "Valid Score:  0.7361636678792022\n"
     ]
    }
   ],
   "source": [
    "# Random Forest\n",
    "model = make_pipeline(\n",
    "    StandardScaler(),\n",
    "    RandomForestClassifier(n_estimators=150, max_depth=15, min_samples_leaf=10)\n",
    ")\n",
    "model.fit(X_train,y_train)\n",
    "print(\"Train Score: \",model.score(X_train, y_train))\n",
    "print(\"Valid Score: \",model.score(X_valid,y_valid))"
   ]
  },
  {
   "cell_type": "code",
   "execution_count": 24,
   "metadata": {},
   "outputs": [
    {
     "name": "stdout",
     "output_type": "stream",
     "text": [
      "Train Score:  0.7484273658683464\n",
      "Valid Score:  0.737286687336735\n"
     ]
    }
   ],
   "source": [
    "# KNeighbors\n",
    "model = make_pipeline(\n",
    "    KNeighborsClassifier(n_neighbors=40)\n",
    ")\n",
    "model.fit(X_train,y_train)\n",
    "print(\"Train Score: \",model.score(X_train, y_train))\n",
    "print(\"Valid Score: \",model.score(X_valid,y_valid))"
   ]
  }
 ],
 "metadata": {
  "kernelspec": {
   "display_name": "Python 3 (ipykernel)",
   "language": "python",
   "name": "python3"
  },
  "language_info": {
   "codemirror_mode": {
    "name": "ipython",
    "version": 3
   },
   "file_extension": ".py",
   "mimetype": "text/x-python",
   "name": "python",
   "nbconvert_exporter": "python",
   "pygments_lexer": "ipython3",
   "version": "3.12.1"
  }
 },
 "nbformat": 4,
 "nbformat_minor": 4
}
