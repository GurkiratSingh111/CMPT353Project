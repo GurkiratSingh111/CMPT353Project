{
 "cells": [
  {
   "cell_type": "code",
   "execution_count": 1,
   "metadata": {},
   "outputs": [
    {
     "name": "stderr",
     "output_type": "stream",
     "text": [
      "/var/folders/qx/dv5zms194lj0k025kmnl22jh0000gn/T/ipykernel_38515/3794829159.py:2: DeprecationWarning: \n",
      "Pyarrow will become a required dependency of pandas in the next major release of pandas (pandas 3.0),\n",
      "(to allow more performant data types, such as the Arrow string type, and better interoperability with other libraries)\n",
      "but was not found to be installed on your system.\n",
      "If this would cause problems for you,\n",
      "please provide us feedback at https://github.com/pandas-dev/pandas/issues/54466\n",
      "        \n",
      "  import pandas as pd\n"
     ]
    }
   ],
   "source": [
    "import numpy as np\n",
    "import pandas as pd\n",
    "import matplotlib.pyplot as plt\n",
    "import statistics\n",
    "from scipy import stats\n",
    "from statsmodels.stats.multicomp import pairwise_tukeyhsd"
   ]
  },
  {
   "cell_type": "code",
   "execution_count": 2,
   "metadata": {},
   "outputs": [],
   "source": [
    "\n",
    "#Male1_ => Male Data of First Male\n",
    "#Female1_ => Female Data of First Female\n",
    "#Male2_ => Male Data of Second Male\n",
    "#Female2_ => Female Data of Second Female\n",
    "Male1_data1 = pd.read_csv(\"Cleaned_Data/cleaned-m1-lefthand.csv\")\n",
    "Male1_data2 = pd.read_csv(\"Cleaned_Data/cleaned-m1-righthand.csv\")\n",
    "Male1_data3 = pd.read_csv(\"Cleaned_Data/cleaned-m1-leftpocket.csv\")\n",
    "Male1_data4 = pd.read_csv(\"Cleaned_Data/cleaned-m1-rightpocket.csv\")\n",
    "Male1_data5 = pd.read_csv(\"Cleaned_Data/cleaned-m1-leftankle.csv\")\n",
    "Male1_data6 = pd.read_csv(\"Cleaned_Data/cleaned-m1-rightankle.csv\")\n",
    "\n",
    "Male2_data1 = pd.read_csv(\"Cleaned_Data/cleaned-m2-lefthand.csv\")\n",
    "Male2_data2 = pd.read_csv(\"Cleaned_Data/cleaned-m2-righthand.csv\")\n",
    "Male2_data3 = pd.read_csv(\"Cleaned_Data/cleaned-m2-leftpocket.csv\")\n",
    "Male2_data4 = pd.read_csv(\"Cleaned_Data/cleaned-m2-rightpocket.csv\")\n",
    "Male2_data5 = pd.read_csv(\"Cleaned_Data/cleaned-m2-leftankle.csv\")\n",
    "Male2_data6 = pd.read_csv(\"Cleaned_Data/cleaned-m2-rightankle.csv\")\n",
    "\n",
    "Female1_data1 = pd.read_csv(\"Cleaned_Data/cleaned-f1-lefthand.csv\")\n",
    "Female1_data2 = pd.read_csv(\"Cleaned_Data/cleaned-f1-righthand.csv\")\n",
    "Female1_data3 = pd.read_csv(\"Cleaned_Data/cleaned-f1-leftpocket.csv\")\n",
    "Female1_data4 = pd.read_csv(\"Cleaned_Data/cleaned-f1-rightpocket.csv\")\n",
    "Female1_data5 = pd.read_csv(\"Cleaned_Data/cleaned-f1-leftankle.csv\")\n",
    "Female1_data6 = pd.read_csv(\"Cleaned_Data/cleaned-f1-rightankle.csv\")\n",
    "\n",
    "Female2_data1 = pd.read_csv(\"Cleaned_Data/cleaned-f2-lefthand.csv\")\n",
    "Female2_data2 = pd.read_csv(\"Cleaned_Data/cleaned-f2-righthand.csv\")\n",
    "Female2_data3 = pd.read_csv(\"Cleaned_Data/cleaned-f2-leftpocket.csv\")\n",
    "Female2_data4 = pd.read_csv(\"Cleaned_Data/cleaned-f2-rightpocket.csv\")\n",
    "Female2_data5 = pd.read_csv(\"Cleaned_Data/cleaned-f2-leftankle.csv\")\n",
    "Female2_data6 = pd.read_csv(\"Cleaned_Data/cleaned-f2-rightankle.csv\")"
   ]
  },
  {
   "cell_type": "code",
   "execution_count": 3,
   "metadata": {},
   "outputs": [],
   "source": [
    "#Dataframe for Female Ankle Data\n",
    "female_ankle_data = pd.concat([Female1_data5,Female1_data6,Female2_data5,Female2_data6],ignore_index=True)\n",
    "\n",
    "#Dataframe for Female Hand Data\n",
    "female_hand_data = pd.concat([Female1_data1,Female1_data2,Female2_data1,Female2_data2],ignore_index=True)\n",
    "\n",
    "#Dataframe for Female Pocket Data\n",
    "female_pocket_data = pd.concat([Female1_data3,Female1_data4,Female2_data3,Female2_data4],ignore_index=True)\n",
    "\n",
    "#Dataframe for Male Ankle Data\n",
    "male_ankle_data = pd.concat([Male1_data5,Male1_data6,Male2_data5,Male2_data6],ignore_index=True)\n",
    "\n",
    "#Dataframe for Male Hand Data\n",
    "male_hand_data = pd.concat([Male1_data1,Male1_data2,Male2_data1,Male2_data2],ignore_index=True)\n",
    "\n",
    "#Dataframe for Male Pocket Data\n",
    "male_pocket_data = pd.concat([Male1_data3,Male1_data4,Male2_data3,Male2_data4],ignore_index=True)\n"
   ]
  },
  {
   "cell_type": "code",
   "execution_count": 4,
   "metadata": {},
   "outputs": [],
   "source": [
    "all_ankle_data = pd.concat([female_ankle_data,male_ankle_data],ignore_index=True)\n",
    "all_hand_data = pd.concat([female_hand_data,male_hand_data],ignore_index=True)\n",
    "all_pocket_data = pd.concat([female_pocket_data,male_pocket_data],ignore_index=True)\n",
    "\n",
    "all_ankle_data.to_csv(\"training/all_ankle.csv\")\n",
    "all_hand_data.to_csv(\"training/all_hand.csv\")\n",
    "all_pocket_data.to_csv(\"training/all_pocket.csv\")"
   ]
  },
  {
   "cell_type": "code",
   "execution_count": 34,
   "metadata": {},
   "outputs": [],
   "source": [
    "female_data_list = [Female1_data1,Female1_data2, Female1_data3, Female1_data4, Female1_data5, Female1_data6, Female2_data1, Female2_data2, Female2_data3, Female2_data4, Female2_data5, Female2_data6]\n",
    "female_data = pd.concat(female_data_list,ignore_index=True)\n",
    "female_data.to_csv(\"training/female_data.csv\")"
   ]
  },
  {
   "cell_type": "code",
   "execution_count": 35,
   "metadata": {},
   "outputs": [
    {
     "data": {
      "text/html": [
       "<div>\n",
       "<style scoped>\n",
       "    .dataframe tbody tr th:only-of-type {\n",
       "        vertical-align: middle;\n",
       "    }\n",
       "\n",
       "    .dataframe tbody tr th {\n",
       "        vertical-align: top;\n",
       "    }\n",
       "\n",
       "    .dataframe thead th {\n",
       "        text-align: right;\n",
       "    }\n",
       "</style>\n",
       "<table border=\"1\" class=\"dataframe\">\n",
       "  <thead>\n",
       "    <tr style=\"text-align: right;\">\n",
       "      <th></th>\n",
       "      <th>Unnamed: 0</th>\n",
       "      <th>time</th>\n",
       "      <th>New_AccelerationX</th>\n",
       "      <th>New_AccelerationY</th>\n",
       "      <th>New_AccelerationZ</th>\n",
       "      <th>new_NetAcceleration</th>\n",
       "    </tr>\n",
       "  </thead>\n",
       "  <tbody>\n",
       "    <tr>\n",
       "      <th>0</th>\n",
       "      <td>992</td>\n",
       "      <td>10.003871</td>\n",
       "      <td>1.163354</td>\n",
       "      <td>-2.167719</td>\n",
       "      <td>-1.032401</td>\n",
       "      <td>2.668005</td>\n",
       "    </tr>\n",
       "    <tr>\n",
       "      <th>1</th>\n",
       "      <td>993</td>\n",
       "      <td>10.015779</td>\n",
       "      <td>1.078422</td>\n",
       "      <td>-1.989741</td>\n",
       "      <td>-1.301134</td>\n",
       "      <td>2.610558</td>\n",
       "    </tr>\n",
       "    <tr>\n",
       "      <th>2</th>\n",
       "      <td>994</td>\n",
       "      <td>10.023850</td>\n",
       "      <td>0.999105</td>\n",
       "      <td>-1.812978</td>\n",
       "      <td>-1.560622</td>\n",
       "      <td>2.592420</td>\n",
       "    </tr>\n",
       "    <tr>\n",
       "      <th>3</th>\n",
       "      <td>995</td>\n",
       "      <td>10.033803</td>\n",
       "      <td>0.931870</td>\n",
       "      <td>-1.637290</td>\n",
       "      <td>-1.801979</td>\n",
       "      <td>2.606958</td>\n",
       "    </tr>\n",
       "    <tr>\n",
       "      <th>4</th>\n",
       "      <td>996</td>\n",
       "      <td>10.047762</td>\n",
       "      <td>0.882251</td>\n",
       "      <td>-1.462580</td>\n",
       "      <td>-2.016615</td>\n",
       "      <td>2.642772</td>\n",
       "    </tr>\n",
       "    <tr>\n",
       "      <th>...</th>\n",
       "      <td>...</td>\n",
       "      <td>...</td>\n",
       "      <td>...</td>\n",
       "      <td>...</td>\n",
       "      <td>...</td>\n",
       "      <td>...</td>\n",
       "    </tr>\n",
       "    <tr>\n",
       "      <th>82781</th>\n",
       "      <td>7977</td>\n",
       "      <td>79.947169</td>\n",
       "      <td>0.575359</td>\n",
       "      <td>2.642424</td>\n",
       "      <td>-0.914380</td>\n",
       "      <td>2.854738</td>\n",
       "    </tr>\n",
       "    <tr>\n",
       "      <th>82782</th>\n",
       "      <td>7978</td>\n",
       "      <td>79.957244</td>\n",
       "      <td>0.255730</td>\n",
       "      <td>2.895083</td>\n",
       "      <td>-1.970000</td>\n",
       "      <td>3.511097</td>\n",
       "    </tr>\n",
       "    <tr>\n",
       "      <th>82783</th>\n",
       "      <td>7979</td>\n",
       "      <td>79.967374</td>\n",
       "      <td>0.131931</td>\n",
       "      <td>3.214690</td>\n",
       "      <td>-3.309986</td>\n",
       "      <td>4.616021</td>\n",
       "    </tr>\n",
       "    <tr>\n",
       "      <th>82784</th>\n",
       "      <td>7980</td>\n",
       "      <td>79.977802</td>\n",
       "      <td>0.153238</td>\n",
       "      <td>3.585465</td>\n",
       "      <td>-4.858372</td>\n",
       "      <td>6.040101</td>\n",
       "    </tr>\n",
       "    <tr>\n",
       "      <th>82785</th>\n",
       "      <td>7981</td>\n",
       "      <td>79.989408</td>\n",
       "      <td>0.287622</td>\n",
       "      <td>3.976181</td>\n",
       "      <td>-6.514291</td>\n",
       "      <td>7.637325</td>\n",
       "    </tr>\n",
       "  </tbody>\n",
       "</table>\n",
       "<p>82786 rows × 6 columns</p>\n",
       "</div>"
      ],
      "text/plain": [
       "       Unnamed: 0       time  New_AccelerationX  New_AccelerationY  \\\n",
       "0             992  10.003871           1.163354          -2.167719   \n",
       "1             993  10.015779           1.078422          -1.989741   \n",
       "2             994  10.023850           0.999105          -1.812978   \n",
       "3             995  10.033803           0.931870          -1.637290   \n",
       "4             996  10.047762           0.882251          -1.462580   \n",
       "...           ...        ...                ...                ...   \n",
       "82781        7977  79.947169           0.575359           2.642424   \n",
       "82782        7978  79.957244           0.255730           2.895083   \n",
       "82783        7979  79.967374           0.131931           3.214690   \n",
       "82784        7980  79.977802           0.153238           3.585465   \n",
       "82785        7981  79.989408           0.287622           3.976181   \n",
       "\n",
       "       New_AccelerationZ  new_NetAcceleration  \n",
       "0              -1.032401             2.668005  \n",
       "1              -1.301134             2.610558  \n",
       "2              -1.560622             2.592420  \n",
       "3              -1.801979             2.606958  \n",
       "4              -2.016615             2.642772  \n",
       "...                  ...                  ...  \n",
       "82781          -0.914380             2.854738  \n",
       "82782          -1.970000             3.511097  \n",
       "82783          -3.309986             4.616021  \n",
       "82784          -4.858372             6.040101  \n",
       "82785          -6.514291             7.637325  \n",
       "\n",
       "[82786 rows x 6 columns]"
      ]
     },
     "execution_count": 35,
     "metadata": {},
     "output_type": "execute_result"
    }
   ],
   "source": [
    "male_data_list = [Male1_data1,Male1_data2, Male1_data3, Male1_data4, Male1_data5, Male1_data6, Male2_data1, Male2_data2, Male2_data3, Male2_data4, Male2_data5, Male2_data6]\n",
    "male_data = pd.concat(male_data_list,ignore_index=True)\n",
    "male_data.to_csv(\"training/male_data.csv\")\n",
    "male_data\n"
   ]
  },
  {
   "cell_type": "code",
   "execution_count": 7,
   "metadata": {},
   "outputs": [],
   "source": [
    "mean_data = lambda df: pd.DataFrame(df[['New_AccelerationX','New_AccelerationY','New_AccelerationZ','new_NetAcceleration']].mean()).T"
   ]
  },
  {
   "cell_type": "code",
   "execution_count": 8,
   "metadata": {},
   "outputs": [],
   "source": [
    "female1_left_ankle_mean = mean_data(Female1_data5)\n",
    "female2_left_ankle_mean = mean_data(Female1_data6)\n",
    "female1_right_ankle_mean = mean_data(Female2_data5)\n",
    "female2_right_ankle_mean = mean_data(Female2_data6)\n",
    "\n",
    "male1_left_ankle_mean = mean_data(Male1_data5)\n",
    "male2_left_ankle_mean = mean_data(Male2_data5)\n",
    "male1_right_ankle_mean = mean_data(Male1_data6)\n",
    "male2_right_ankle_mean = mean_data(Male2_data6)\n",
    "\n",
    "female1_left_pocket_mean = mean_data(Female1_data3)\n",
    "female2_left_pocket_mean = mean_data(Female2_data3)\n",
    "female1_right_pocket_mean = mean_data(Female1_data4)\n",
    "female2_right_pocket_mean = mean_data(Female2_data4)\n",
    "\n",
    "male1_left_pocket_mean = mean_data(Male1_data3)\n",
    "male2_left_pocket_mean = mean_data(Male2_data3)\n",
    "male1_right_pocket_mean = mean_data(Male1_data4)\n",
    "male2_right_pocket_mean = mean_data(Male2_data4)\n",
    "\n",
    "female1_left_hand_mean = mean_data(Female1_data1)\n",
    "female2_left_hand_mean = mean_data(Female2_data1)\n",
    "female1_right_hand_mean = mean_data(Female1_data2)\n",
    "female2_right_hand_mean = mean_data(Female2_data2)\n",
    "\n",
    "male1_left_hand_mean = mean_data(Male1_data1)\n",
    "male2_left_hand_mean = mean_data(Male2_data1)\n",
    "male1_right_hand_mean = mean_data(Male1_data2)\n",
    "male2_right_hand_mean = mean_data(Male2_data2)"
   ]
  },
  {
   "cell_type": "code",
   "execution_count": 9,
   "metadata": {},
   "outputs": [],
   "source": [
    "ankle_mean = pd.concat([female1_left_ankle_mean,female2_left_ankle_mean,female1_right_ankle_mean,female2_right_ankle_mean,\n",
    "                        male1_left_ankle_mean,male2_left_ankle_mean,male1_right_ankle_mean,male2_right_ankle_mean],ignore_index=True)\n",
    "\n",
    "pocket_mean = pd.concat([female1_left_pocket_mean,female2_left_pocket_mean,female1_right_pocket_mean,female2_right_pocket_mean,\n",
    "                        male1_left_pocket_mean,male2_left_pocket_mean,male1_right_pocket_mean,male2_right_pocket_mean],ignore_index=True)\n",
    "\n",
    "hand_mean = pd.concat([female1_left_hand_mean,female2_left_hand_mean,female1_right_hand_mean,female2_right_hand_mean,\n",
    "                        male1_left_hand_mean,male2_left_hand_mean,male1_right_hand_mean,male2_right_hand_mean],ignore_index=True)"
   ]
  },
  {
   "cell_type": "code",
   "execution_count": 10,
   "metadata": {},
   "outputs": [],
   "source": [
    "Female1_data1_avg = mean_data(Female1_data1)\n",
    "Female1_data2_avg = mean_data(Female1_data2)\n",
    "Female1_data3_avg = mean_data(Female1_data3)\n",
    "Female1_data4_avg = mean_data(Female1_data4)\n",
    "Female1_data5_avg = mean_data(Female1_data6)\n",
    "Female1_data6_avg = mean_data(Female1_data5)\n",
    "Female2_data1_avg = mean_data(Female2_data1)\n",
    "Female2_data2_avg = mean_data(Female2_data2)\n",
    "Female2_data3_avg = mean_data(Female2_data3)\n",
    "Female2_data4_avg = mean_data(Female2_data4)\n",
    "Female2_data5_avg = mean_data(Female2_data5)\n",
    "Female2_data6_avg = mean_data(Female2_data6)"
   ]
  },
  {
   "cell_type": "code",
   "execution_count": 11,
   "metadata": {},
   "outputs": [],
   "source": [
    "Male1_data1_avg = mean_data(Male1_data1)\n",
    "Male1_data2_avg = mean_data(Male1_data2)\n",
    "Male1_data3_avg = mean_data(Male1_data3)\n",
    "Male1_data4_avg = mean_data(Male1_data4)\n",
    "Male1_data5_avg = mean_data(Male1_data6)\n",
    "Male1_data6_avg = mean_data(Male1_data5)\n",
    "Male2_data1_avg = mean_data(Male2_data1)\n",
    "Male2_data2_avg = mean_data(Male2_data2)\n",
    "Male2_data3_avg = mean_data(Male2_data3)\n",
    "Male2_data4_avg = mean_data(Male2_data4)\n",
    "Male2_data5_avg = mean_data(Male2_data5)\n",
    "Male2_data6_avg = mean_data(Male2_data6)"
   ]
  },
  {
   "cell_type": "code",
   "execution_count": 12,
   "metadata": {},
   "outputs": [],
   "source": [
    "female_data_mean = pd.concat(\n",
    "    [\n",
    "    Female1_data1_avg,\n",
    "    Female1_data2_avg,\n",
    "    Female1_data3_avg,\n",
    "    Female1_data4_avg,\n",
    "    Female1_data5_avg,\n",
    "    Female1_data6_avg,\n",
    "    Female2_data1_avg,\n",
    "    Female2_data2_avg,\n",
    "    Female2_data3_avg,\n",
    "    Female2_data4_avg,\n",
    "    Female2_data5_avg,\n",
    "    Female2_data6_avg], ignore_index=True\n",
    ")\n",
    "male_data_mean = pd.concat(\n",
    "   [\n",
    "    Male1_data1_avg,\n",
    "    Male1_data2_avg,\n",
    "    Male1_data3_avg,\n",
    "    Male1_data4_avg,\n",
    "    Male1_data5_avg,\n",
    "    Male1_data6_avg,\n",
    "    Male2_data1_avg,\n",
    "    Male2_data2_avg,\n",
    "    Male2_data3_avg,\n",
    "    Male2_data4_avg,\n",
    "    Male2_data5_avg,\n",
    "    Male2_data6_avg\n",
    "] ,ignore_index=True\n",
    ")\n"
   ]
  },
  {
   "cell_type": "code",
   "execution_count": 13,
   "metadata": {},
   "outputs": [
    {
     "data": {
      "text/html": [
       "<div>\n",
       "<style scoped>\n",
       "    .dataframe tbody tr th:only-of-type {\n",
       "        vertical-align: middle;\n",
       "    }\n",
       "\n",
       "    .dataframe tbody tr th {\n",
       "        vertical-align: top;\n",
       "    }\n",
       "\n",
       "    .dataframe thead th {\n",
       "        text-align: right;\n",
       "    }\n",
       "</style>\n",
       "<table border=\"1\" class=\"dataframe\">\n",
       "  <thead>\n",
       "    <tr style=\"text-align: right;\">\n",
       "      <th></th>\n",
       "      <th>Mean_AccelerationX</th>\n",
       "      <th>Mean_AccelerationY</th>\n",
       "      <th>Mean_AccelerationZ</th>\n",
       "      <th>mean_NetAcceleration</th>\n",
       "    </tr>\n",
       "  </thead>\n",
       "  <tbody>\n",
       "    <tr>\n",
       "      <th>0</th>\n",
       "      <td>-0.014508</td>\n",
       "      <td>-0.164560</td>\n",
       "      <td>0.008868</td>\n",
       "      <td>1.865518</td>\n",
       "    </tr>\n",
       "    <tr>\n",
       "      <th>1</th>\n",
       "      <td>-0.052908</td>\n",
       "      <td>-0.223579</td>\n",
       "      <td>0.066802</td>\n",
       "      <td>2.320074</td>\n",
       "    </tr>\n",
       "    <tr>\n",
       "      <th>2</th>\n",
       "      <td>0.257270</td>\n",
       "      <td>-0.556371</td>\n",
       "      <td>-0.220056</td>\n",
       "      <td>5.291893</td>\n",
       "    </tr>\n",
       "    <tr>\n",
       "      <th>3</th>\n",
       "      <td>-0.183763</td>\n",
       "      <td>-0.632608</td>\n",
       "      <td>-0.442691</td>\n",
       "      <td>5.356211</td>\n",
       "    </tr>\n",
       "    <tr>\n",
       "      <th>4</th>\n",
       "      <td>0.187470</td>\n",
       "      <td>1.919672</td>\n",
       "      <td>-0.265097</td>\n",
       "      <td>5.447977</td>\n",
       "    </tr>\n",
       "    <tr>\n",
       "      <th>5</th>\n",
       "      <td>0.822309</td>\n",
       "      <td>1.493824</td>\n",
       "      <td>-0.436558</td>\n",
       "      <td>5.507847</td>\n",
       "    </tr>\n",
       "    <tr>\n",
       "      <th>6</th>\n",
       "      <td>-0.043030</td>\n",
       "      <td>-0.128492</td>\n",
       "      <td>-0.015521</td>\n",
       "      <td>3.223761</td>\n",
       "    </tr>\n",
       "    <tr>\n",
       "      <th>7</th>\n",
       "      <td>-0.024446</td>\n",
       "      <td>-0.137603</td>\n",
       "      <td>-0.046460</td>\n",
       "      <td>3.295289</td>\n",
       "    </tr>\n",
       "    <tr>\n",
       "      <th>8</th>\n",
       "      <td>-0.050401</td>\n",
       "      <td>-4.451320</td>\n",
       "      <td>0.044898</td>\n",
       "      <td>9.808443</td>\n",
       "    </tr>\n",
       "    <tr>\n",
       "      <th>9</th>\n",
       "      <td>0.079114</td>\n",
       "      <td>-0.674474</td>\n",
       "      <td>0.624017</td>\n",
       "      <td>4.844656</td>\n",
       "    </tr>\n",
       "    <tr>\n",
       "      <th>10</th>\n",
       "      <td>0.280913</td>\n",
       "      <td>2.666135</td>\n",
       "      <td>0.990625</td>\n",
       "      <td>7.535564</td>\n",
       "    </tr>\n",
       "    <tr>\n",
       "      <th>11</th>\n",
       "      <td>-0.417440</td>\n",
       "      <td>2.210858</td>\n",
       "      <td>-0.480692</td>\n",
       "      <td>6.627480</td>\n",
       "    </tr>\n",
       "  </tbody>\n",
       "</table>\n",
       "</div>"
      ],
      "text/plain": [
       "    Mean_AccelerationX  Mean_AccelerationY  Mean_AccelerationZ  \\\n",
       "0            -0.014508           -0.164560            0.008868   \n",
       "1            -0.052908           -0.223579            0.066802   \n",
       "2             0.257270           -0.556371           -0.220056   \n",
       "3            -0.183763           -0.632608           -0.442691   \n",
       "4             0.187470            1.919672           -0.265097   \n",
       "5             0.822309            1.493824           -0.436558   \n",
       "6            -0.043030           -0.128492           -0.015521   \n",
       "7            -0.024446           -0.137603           -0.046460   \n",
       "8            -0.050401           -4.451320            0.044898   \n",
       "9             0.079114           -0.674474            0.624017   \n",
       "10            0.280913            2.666135            0.990625   \n",
       "11           -0.417440            2.210858           -0.480692   \n",
       "\n",
       "    mean_NetAcceleration  \n",
       "0               1.865518  \n",
       "1               2.320074  \n",
       "2               5.291893  \n",
       "3               5.356211  \n",
       "4               5.447977  \n",
       "5               5.507847  \n",
       "6               3.223761  \n",
       "7               3.295289  \n",
       "8               9.808443  \n",
       "9               4.844656  \n",
       "10              7.535564  \n",
       "11              6.627480  "
      ]
     },
     "execution_count": 13,
     "metadata": {},
     "output_type": "execute_result"
    }
   ],
   "source": [
    "male_data_mean.columns = ['Mean_AccelerationX','Mean_AccelerationY','Mean_AccelerationZ', 'mean_NetAcceleration']\n",
    "male_data_mean"
   ]
  },
  {
   "cell_type": "code",
   "execution_count": 14,
   "metadata": {},
   "outputs": [
    {
     "data": {
      "text/html": [
       "<div>\n",
       "<style scoped>\n",
       "    .dataframe tbody tr th:only-of-type {\n",
       "        vertical-align: middle;\n",
       "    }\n",
       "\n",
       "    .dataframe tbody tr th {\n",
       "        vertical-align: top;\n",
       "    }\n",
       "\n",
       "    .dataframe thead th {\n",
       "        text-align: right;\n",
       "    }\n",
       "</style>\n",
       "<table border=\"1\" class=\"dataframe\">\n",
       "  <thead>\n",
       "    <tr style=\"text-align: right;\">\n",
       "      <th></th>\n",
       "      <th>Mean_AccelerationX</th>\n",
       "      <th>Mean_AccelerationY</th>\n",
       "      <th>Mean_AccelerationZ</th>\n",
       "      <th>mean_NetAcceleration</th>\n",
       "    </tr>\n",
       "  </thead>\n",
       "  <tbody>\n",
       "    <tr>\n",
       "      <th>0</th>\n",
       "      <td>0.060258</td>\n",
       "      <td>-0.195880</td>\n",
       "      <td>0.049275</td>\n",
       "      <td>1.580267</td>\n",
       "    </tr>\n",
       "    <tr>\n",
       "      <th>1</th>\n",
       "      <td>0.059936</td>\n",
       "      <td>-0.240205</td>\n",
       "      <td>0.036063</td>\n",
       "      <td>1.391099</td>\n",
       "    </tr>\n",
       "    <tr>\n",
       "      <th>2</th>\n",
       "      <td>0.073394</td>\n",
       "      <td>-0.360238</td>\n",
       "      <td>-0.048933</td>\n",
       "      <td>4.059845</td>\n",
       "    </tr>\n",
       "    <tr>\n",
       "      <th>3</th>\n",
       "      <td>-0.104871</td>\n",
       "      <td>-0.398392</td>\n",
       "      <td>-0.123718</td>\n",
       "      <td>3.974278</td>\n",
       "    </tr>\n",
       "    <tr>\n",
       "      <th>4</th>\n",
       "      <td>-0.588563</td>\n",
       "      <td>1.181263</td>\n",
       "      <td>-0.162447</td>\n",
       "      <td>4.338477</td>\n",
       "    </tr>\n",
       "    <tr>\n",
       "      <th>5</th>\n",
       "      <td>-0.082471</td>\n",
       "      <td>1.331516</td>\n",
       "      <td>-0.111866</td>\n",
       "      <td>4.227227</td>\n",
       "    </tr>\n",
       "    <tr>\n",
       "      <th>6</th>\n",
       "      <td>0.003013</td>\n",
       "      <td>-0.638907</td>\n",
       "      <td>-0.170063</td>\n",
       "      <td>3.382828</td>\n",
       "    </tr>\n",
       "    <tr>\n",
       "      <th>7</th>\n",
       "      <td>0.512305</td>\n",
       "      <td>-1.011785</td>\n",
       "      <td>0.609402</td>\n",
       "      <td>4.377655</td>\n",
       "    </tr>\n",
       "    <tr>\n",
       "      <th>8</th>\n",
       "      <td>-0.012392</td>\n",
       "      <td>-0.673400</td>\n",
       "      <td>0.494193</td>\n",
       "      <td>4.923035</td>\n",
       "    </tr>\n",
       "    <tr>\n",
       "      <th>9</th>\n",
       "      <td>-0.238167</td>\n",
       "      <td>-0.561167</td>\n",
       "      <td>0.419430</td>\n",
       "      <td>5.045049</td>\n",
       "    </tr>\n",
       "    <tr>\n",
       "      <th>10</th>\n",
       "      <td>0.346437</td>\n",
       "      <td>2.020088</td>\n",
       "      <td>0.712530</td>\n",
       "      <td>6.387345</td>\n",
       "    </tr>\n",
       "    <tr>\n",
       "      <th>11</th>\n",
       "      <td>-0.435762</td>\n",
       "      <td>2.396909</td>\n",
       "      <td>-0.609614</td>\n",
       "      <td>7.444698</td>\n",
       "    </tr>\n",
       "  </tbody>\n",
       "</table>\n",
       "</div>"
      ],
      "text/plain": [
       "    Mean_AccelerationX  Mean_AccelerationY  Mean_AccelerationZ  \\\n",
       "0             0.060258           -0.195880            0.049275   \n",
       "1             0.059936           -0.240205            0.036063   \n",
       "2             0.073394           -0.360238           -0.048933   \n",
       "3            -0.104871           -0.398392           -0.123718   \n",
       "4            -0.588563            1.181263           -0.162447   \n",
       "5            -0.082471            1.331516           -0.111866   \n",
       "6             0.003013           -0.638907           -0.170063   \n",
       "7             0.512305           -1.011785            0.609402   \n",
       "8            -0.012392           -0.673400            0.494193   \n",
       "9            -0.238167           -0.561167            0.419430   \n",
       "10            0.346437            2.020088            0.712530   \n",
       "11           -0.435762            2.396909           -0.609614   \n",
       "\n",
       "    mean_NetAcceleration  \n",
       "0               1.580267  \n",
       "1               1.391099  \n",
       "2               4.059845  \n",
       "3               3.974278  \n",
       "4               4.338477  \n",
       "5               4.227227  \n",
       "6               3.382828  \n",
       "7               4.377655  \n",
       "8               4.923035  \n",
       "9               5.045049  \n",
       "10              6.387345  \n",
       "11              7.444698  "
      ]
     },
     "execution_count": 14,
     "metadata": {},
     "output_type": "execute_result"
    }
   ],
   "source": [
    "female_data_mean.columns = ['Mean_AccelerationX','Mean_AccelerationY','Mean_AccelerationZ', 'mean_NetAcceleration']\n",
    "female_data_mean"
   ]
  },
  {
   "cell_type": "code",
   "execution_count": 19,
   "metadata": {},
   "outputs": [
    {
     "name": "stdout",
     "output_type": "stream",
     "text": [
      "5.939576775068264\n"
     ]
    },
    {
     "data": {
      "image/png": "[encoded data removed]",
      "text/plain": [
       "<Figure size 640x480 with 1 Axes>"
      ]
     },
     "metadata": {},
     "output_type": "display_data"
    }
   ],
   "source": [
    "plt.hist(all_ankle_data['new_NetAcceleration'])\n",
    "plt.xlabel(\"Net Acceleration\")\n",
    "plt.ylabel(\"No of Times\")\n",
    "plt.title(\"Histogram of Net Acceleration of Ankle_data\")\n",
    "#plt.savefig(\"Normal1.jpg\")\n",
    "print(ankle_mean['new_NetAcceleration'].mean())"
   ]
  },
  {
   "cell_type": "code",
   "execution_count": 20,
   "metadata": {},
   "outputs": [
    {
     "name": "stdout",
     "output_type": "stream",
     "text": [
      "2.6795615246299933\n"
     ]
    },
    {
     "data": {
      "image/png": "[encoded data removed]",
      "text/plain": [
       "<Figure size 640x480 with 1 Axes>"
      ]
     },
     "metadata": {},
     "output_type": "display_data"
    }
   ],
   "source": [
    "plt.hist(all_hand_data['new_NetAcceleration'])\n",
    "plt.xlabel(\"Net Acceleration\")\n",
    "plt.ylabel(\"No of Times\")\n",
    "plt.title(\"Histogram of Net Acceleration of Hand_data\")\n",
    "print(hand_mean['new_NetAcceleration'].mean())"
   ]
  },
  {
   "cell_type": "code",
   "execution_count": 21,
   "metadata": {},
   "outputs": [
    {
     "name": "stdout",
     "output_type": "stream",
     "text": [
      "5.412926202491036\n"
     ]
    },
    {
     "data": {
      "image/png": "[encoded data removed]",
      "text/plain": [
       "<Figure size 640x480 with 1 Axes>"
      ]
     },
     "metadata": {},
     "output_type": "display_data"
    }
   ],
   "source": [
    "plt.hist(all_pocket_data['new_NetAcceleration'])\n",
    "plt.xlabel(\"Net Acceleration\")\n",
    "plt.ylabel(\"No of Times\")\n",
    "plt.title(\"Histogram of Net Acceleration of Pocket_data\")\n",
    "#plt.savefig(\"Normal2.jpg\")\n",
    "print(pocket_mean['new_NetAcceleration'].mean())"
   ]
  },
  {
   "cell_type": "code",
   "execution_count": 28,
   "metadata": {},
   "outputs": [
    {
     "name": "stdout",
     "output_type": "stream",
     "text": [
      "4.260983541796798\n"
     ]
    },
    {
     "data": {
      "image/png": "[encoded data removed]",
      "text/plain": [
       "<Figure size 640x480 with 1 Axes>"
      ]
     },
     "metadata": {},
     "output_type": "display_data"
    }
   ],
   "source": [
    "plt.hist(female_data['new_NetAcceleration'])\n",
    "plt.xlabel(\"Net Acceleration\")\n",
    "plt.ylabel(\"No of Times\")\n",
    "plt.title(\"Histogram of Net Acceleration of Female_data\")\n",
    "#plt.savefig(\"Normal3.jpg\");\n",
    "print(female_data_mean['mean_NetAcceleration'].mean())"
   ]
  },
  {
   "cell_type": "code",
   "execution_count": 29,
   "metadata": {},
   "outputs": [
    {
     "name": "stdout",
     "output_type": "stream",
     "text": [
      "5.093726126329398\n"
     ]
    },
    {
     "data": {
      "image/png": "[encoded data removed]",
      "text/plain": [
       "<Figure size 640x480 with 1 Axes>"
      ]
     },
     "metadata": {},
     "output_type": "display_data"
    }
   ],
   "source": [
    "plt.hist(male_data['new_NetAcceleration'])\n",
    "plt.xlabel(\"Net Acceleration\")\n",
    "plt.ylabel(\"No of Times\")\n",
    "plt.title(\"Histogram of Net Acceleration of Male_data\")\n",
    "print(male_data_mean['mean_NetAcceleration'].mean())"
   ]
  },
  {
   "cell_type": "code",
   "execution_count": 31,
   "metadata": {},
   "outputs": [
    {
     "name": "stdout",
     "output_type": "stream",
     "text": [
      "Female ankle vs pocket - P Value : 0.04037946273067447\n",
      "Male ankle vs pocket - P Value : 1.1131470336265456e-11\n",
      "Male Ankle vs Hand - P Value : 0.0\n",
      "Male hand vs pocket - P Value : 0.0\n",
      "Female Ankle vs Hand - P Value : 0.0\n",
      "Female hand vs pocket - P Value : 0.0\n"
     ]
    }
   ],
   "source": [
    "# Performing U test for Female Ankle vs Female Pocket\n",
    "print('Female ankle vs pocket - P Value : ' + str(stats.mannwhitneyu(female_ankle_data['new_NetAcceleration'], female_pocket_data['new_NetAcceleration']).pvalue))\n",
    "\n",
    "\n",
    "# Performing U test for Male Ankle vs Male Pocket\n",
    "print('Male ankle vs pocket - P Value : ' + str(stats.mannwhitneyu(male_ankle_data['new_NetAcceleration'], male_pocket_data['new_NetAcceleration']).pvalue))\n",
    "\n",
    "#  for Male Ankle vs Male Hand\n",
    "print('Male Ankle vs Hand - P Value : ' + str(stats.mannwhitneyu(male_ankle_data['new_NetAcceleration'], male_hand_data['new_NetAcceleration']).pvalue))\n",
    "\n",
    "# Performing U test for Male Hand vs Male Pocket\n",
    "print('Male hand vs pocket - P Value : ' + str(stats.mannwhitneyu(male_hand_data['new_NetAcceleration'], male_pocket_data['new_NetAcceleration']).pvalue))\n",
    "\n",
    "#  for Female Ankle vs Female Hand\n",
    "print('Female Ankle vs Hand - P Value : ' + str(stats.mannwhitneyu(female_ankle_data['new_NetAcceleration'], female_hand_data['new_NetAcceleration']).pvalue))\n",
    "\n",
    "# Performing U test for Female Hand vs Female Pocket\n",
    "print('Female hand vs pocket - P Value : ' + str(stats.mannwhitneyu(female_hand_data['new_NetAcceleration'], female_pocket_data['new_NetAcceleration']).pvalue))"
   ]
  },
  {
   "cell_type": "code",
   "execution_count": 33,
   "metadata": {},
   "outputs": [
    {
     "name": "stdout",
     "output_type": "stream",
     "text": [
      "F_onewayResult(statistic=1.0413273830044973, pvalue=0.3186041642258874)\n",
      "0.3186041642258874\n"
     ]
    }
   ],
   "source": [
    "# Between Male and Female\n",
    "anova = stats.f_oneway(female_data_mean['mean_NetAcceleration'],male_data_mean['mean_NetAcceleration'])\n",
    "print(anova)\n",
    "print(anova.pvalue)"
   ]
  },
  {
   "cell_type": "code",
   "execution_count": 32,
   "metadata": {},
   "outputs": [
    {
     "name": "stdout",
     "output_type": "stream",
     "text": [
      "F_onewayResult(statistic=11.949014631050206, pvalue=0.0003427016290012456)\n",
      "0.0003427016290012456\n"
     ]
    }
   ],
   "source": [
    "#Between Ankle , Hand and Pocket\n",
    "anova = stats.f_oneway(ankle_mean['new_NetAcceleration'],hand_mean['new_NetAcceleration'],pocket_mean['new_NetAcceleration'])\n",
    "print(anova)\n",
    "print(anova.pvalue)"
   ]
  },
  {
   "cell_type": "code",
   "execution_count": 37,
   "metadata": {},
   "outputs": [
    {
     "name": "stdout",
     "output_type": "stream",
     "text": [
      "Multiple Comparison of Means - Tukey HSD, FWER=0.05 \n",
      "====================================================\n",
      "group1 group2 meandiff p-adj   lower   upper  reject\n",
      "----------------------------------------------------\n",
      " Ankle   Hand    -3.26 0.0005 -5.0647 -1.4553   True\n",
      " Ankle Pocket  -0.5267 0.7454 -2.3313   1.278  False\n",
      "  Hand Pocket   2.7334 0.0028  0.9287  4.5381   True\n",
      "----------------------------------------------------\n"
     ]
    }
   ],
   "source": [
    "# Comparsion of Means between Ankle, Hand and Pocket\n",
    "x_data = pd.DataFrame({'Ankle': ankle_mean['new_NetAcceleration'], 'Hand': hand_mean['new_NetAcceleration'], 'Pocket': pocket_mean['new_NetAcceleration']})\n",
    "x_melt = pd.melt(x_data).dropna()\n",
    "posthoc = pairwise_tukeyhsd(\n",
    "    x_melt['value'], x_melt['variable'],\n",
    "    alpha=0.05)\n",
    "print(posthoc)"
   ]
  },
  {
   "cell_type": "code",
   "execution_count": 39,
   "metadata": {},
   "outputs": [
    {
     "data": {
      "image/png": "[encoded data removed]",
      "text/plain": [
       "<Figure size 1000x600 with 1 Axes>"
      ]
     },
     "metadata": {},
     "output_type": "display_data"
    }
   ],
   "source": [
    "figure = posthoc.plot_simultaneous()"
   ]
  },
  {
   "cell_type": "code",
   "execution_count": 41,
   "metadata": {},
   "outputs": [
    {
     "name": "stdout",
     "output_type": "stream",
     "text": [
      "Multiple Comparison of Means - Tukey HSD, FWER=0.05\n",
      "===================================================\n",
      "group1 group2 meandiff p-adj   lower  upper  reject\n",
      "---------------------------------------------------\n",
      "Female   Male   0.8327 0.3186 -0.8596 2.5251  False\n",
      "---------------------------------------------------\n"
     ]
    }
   ],
   "source": [
    "#Comparsion between Male and Female\n",
    "x_data = pd.DataFrame({'Female': female_data_mean['mean_NetAcceleration'], 'Male': male_data_mean['mean_NetAcceleration']})\n",
    "x_melt = pd.melt(x_data).dropna()\n",
    "posthoc = pairwise_tukeyhsd(\n",
    "    x_melt['value'], x_melt['variable'],\n",
    "    alpha=0.05)\n",
    "print(posthoc)"
   ]
  },
  {
   "cell_type": "code",
   "execution_count": 43,
   "metadata": {},
   "outputs": [],
   "source": [
    "\n",
    "from scipy import integrate\n"
   ]
  },
  {
   "cell_type": "code",
   "execution_count": 53,
   "metadata": {},
   "outputs": [
    {
     "data": {
      "text/plain": [
       "38.85115939293078"
      ]
     },
     "execution_count": 53,
     "metadata": {},
     "output_type": "execute_result"
    }
   ],
   "source": [
    "# Calculating velocity of mean Net Accelerations of Pocket\n",
    "velocity = integrate.trapezoid(pocket_mean['new_NetAcceleration'])\n",
    "velocity"
   ]
  },
  {
   "cell_type": "code",
   "execution_count": 52,
   "metadata": {},
   "outputs": [
    {
     "data": {
      "text/plain": [
       "18.998713984162578"
      ]
     },
     "execution_count": 52,
     "metadata": {},
     "output_type": "execute_result"
    }
   ],
   "source": [
    "# Calculating velocity of mean Net Accelerations of Hand\n",
    "velocity = integrate.trapezoid(hand_mean['new_NetAcceleration'])\n",
    "velocity"
   ]
  },
  {
   "cell_type": "code",
   "execution_count": 48,
   "metadata": {},
   "outputs": [
    {
     "data": {
      "text/plain": [
       "42.089260876824305"
      ]
     },
     "execution_count": 48,
     "metadata": {},
     "output_type": "execute_result"
    }
   ],
   "source": [
    "# Calculating velocity of mean Net Accelerations of Ankle\n",
    "velocity = integrate.trapezoid(ankle_mean['new_NetAcceleration'])\n",
    "velocity"
   ]
  },
  {
   "cell_type": "code",
   "execution_count": 50,
   "metadata": {},
   "outputs": [
    {
     "data": {
      "text/plain": [
       "46.61932009652471"
      ]
     },
     "execution_count": 50,
     "metadata": {},
     "output_type": "execute_result"
    }
   ],
   "source": [
    "# Calculating velocity of mean Net Accelerations of Female\n",
    "velocity = integrate.trapezoid(female_data_mean['mean_NetAcceleration'])\n",
    "velocity"
   ]
  },
  {
   "cell_type": "code",
   "execution_count": 51,
   "metadata": {},
   "outputs": [
    {
     "data": {
      "text/plain": [
       "56.87821481217363"
      ]
     },
     "execution_count": 51,
     "metadata": {},
     "output_type": "execute_result"
    }
   ],
   "source": [
    "# Calculating velocity of mean Net Accelerations of Male\n",
    "velocity = integrate.trapezoid(male_data_mean['mean_NetAcceleration'])\n",
    "velocity\n"
   ]
  },
  {
   "cell_type": "code",
   "execution_count": null,
   "metadata": {},
   "outputs": [],
   "source": []
  }
 ],
 "metadata": {
  "kernelspec": {
   "display_name": "Python 3",
   "language": "python",
   "name": "python3"
  },
  "language_info": {
   "codemirror_mode": {
    "name": "ipython",
    "version": 3
   },
   "file_extension": ".py",
   "mimetype": "text/x-python",
   "name": "python",
   "nbconvert_exporter": "python",
   "pygments_lexer": "ipython3",
   "version": "3.12.1"
  },
  "orig_nbformat": 4
 },
 "nbformat": 4,
 "nbformat_minor": 2
}
