{
 "cells": [
  {
   "cell_type": "code",
   "execution_count": 12,
   "metadata": {},
   "outputs": [],
   "source": [
    "import numpy as np\n",
    "import pandas as pd\n",
    "import matplotlib.pyplot as plt\n",
    "import statistics\n",
    "from scipy import stats\n",
    "from statsmodels.stats.multicomp import pairwise_tukeyhsd"
   ]
  },
  {
   "cell_type": "code",
   "execution_count": 13,
   "metadata": {},
   "outputs": [],
   "source": [
    "\n",
    "#Male1_ => Male Data of First Male\n",
    "#Female1_ => Female Data of First Female\n",
    "#Male2_ => Male Data of Second Male\n",
    "#Female2_ => Female Data of Second Female\n",
    "Male1_data1 = pd.read_csv(\"Cleaned_Data/cleaned-m1-lefthand.csv\")\n",
    "Male1_data2 = pd.read_csv(\"Cleaned_Data/cleaned-m1-righthand.csv\")\n",
    "Male1_data3 = pd.read_csv(\"Cleaned_Data/cleaned-m1-leftpocket.csv\")\n",
    "Male1_data4 = pd.read_csv(\"Cleaned_Data/cleaned-m1-rightpocket.csv\")\n",
    "Male1_data5 = pd.read_csv(\"Cleaned_Data/cleaned-m1-leftankle.csv\")\n",
    "Male1_data6 = pd.read_csv(\"Cleaned_Data/cleaned-m1-rightankle.csv\")\n",
    "\n",
    "Male2_data1 = pd.read_csv(\"Cleaned_Data/cleaned-m2-lefthand.csv\")\n",
    "Male2_data2 = pd.read_csv(\"Cleaned_Data/cleaned-m2-righthand.csv\")\n",
    "Male2_data3 = pd.read_csv(\"Cleaned_Data/cleaned-m2-leftpocket.csv\")\n",
    "Male2_data4 = pd.read_csv(\"Cleaned_Data/cleaned-m2-rightpocket.csv\")\n",
    "Male2_data5 = pd.read_csv(\"Cleaned_Data/cleaned-m2-leftankle.csv\")\n",
    "Male2_data6 = pd.read_csv(\"Cleaned_Data/cleaned-m2-rightankle.csv\")\n",
    "\n",
    "Female1_data1 = pd.read_csv(\"Cleaned_Data/cleaned-f1-lefthand.csv\")\n",
    "Female1_data2 = pd.read_csv(\"Cleaned_Data/cleaned-f1-righthand.csv\")\n",
    "Female1_data3 = pd.read_csv(\"Cleaned_Data/cleaned-f1-leftpocket.csv\")\n",
    "Female1_data4 = pd.read_csv(\"Cleaned_Data/cleaned-f1-rightpocket.csv\")\n",
    "Female1_data5 = pd.read_csv(\"Cleaned_Data/cleaned-f1-leftankle.csv\")\n",
    "Female1_data6 = pd.read_csv(\"Cleaned_Data/cleaned-f1-rightankle.csv\")\n",
    "\n",
    "Female2_data1 = pd.read_csv(\"Cleaned_Data/cleaned-f2-lefthand.csv\")\n",
    "Female2_data2 = pd.read_csv(\"Cleaned_Data/cleaned-f2-righthand.csv\")\n",
    "Female2_data3 = pd.read_csv(\"Cleaned_Data/cleaned-f2-leftpocket.csv\")\n",
    "Female2_data4 = pd.read_csv(\"Cleaned_Data/cleaned-f2-rightpocket.csv\")\n",
    "Female2_data5 = pd.read_csv(\"Cleaned_Data/cleaned-f2-leftankle.csv\")\n",
    "Female2_data6 = pd.read_csv(\"Cleaned_Data/cleaned-f2-rightankle.csv\")"
   ]
  },
  {
   "cell_type": "code",
   "execution_count": 21,
   "metadata": {},
   "outputs": [],
   "source": [
    "#Dataframe for Female Ankle Data\n",
    "female_ankle_data = pd.concat([Female1_data5,Female1_data6,Female2_data5,Female2_data6],ignore_index=True)\n",
    "\n",
    "#Dataframe for Female Hand Data\n",
    "female_hand_data = pd.concat([Female1_data1,Female1_data2,Female2_data1,Female2_data2],ignore_index=True)\n",
    "\n",
    "#Dataframe for Female Pocket Data\n",
    "female_pocket_data = pd.concat([Female1_data3,Female1_data4,Female2_data3,Female2_data4],ignore_index=True)\n",
    "\n",
    "#Dataframe for Male Ankle Data\n",
    "male_ankle_data = pd.concat([Male1_data5,Male1_data6,Male2_data5,Male2_data6],ignore_index=True)\n",
    "\n",
    "#Dataframe for Male Hand Data\n",
    "male_hand_data = pd.concat([Male1_data1,Male1_data2,Male2_data1,Male2_data2],ignore_index=True)\n",
    "\n",
    "#Dataframe for Male Pocket Data\n",
    "male_pocket_data = pd.concat([Male1_data3,Male1_data4,Male2_data3,Male2_data4],ignore_index=True)\n"
   ]
  },
  {
   "cell_type": "code",
   "execution_count": 22,
   "metadata": {},
   "outputs": [],
   "source": [
    "all_ankle_data = pd.concat([female_ankle_data,male_ankle_data],ignore_index=True)\n",
    "all_hand_data = pd.concat([female_hand_data,male_hand_data],ignore_index=True)\n",
    "all_pocket_data = pd.concat([female_pocket_data,male_pocket_data],ignore_index=True)\n",
    "\n",
    "all_ankle_data.to_csv(\"training/all_ankle.csv\")\n",
    "all_hand_data.to_csv(\"training/all_hand.csv\")\n",
    "all_pocket_data.to_csv(\"training/all_pocket.csv\")"
   ]
  },
  {
   "cell_type": "code",
   "execution_count": 23,
   "metadata": {},
   "outputs": [],
   "source": [
    "female_data_list = [Female1_data1,Female1_data2, Female1_data3, Female1_data4, Female1_data5, Female1_data6, Female2_data1, Female2_data2, Female2_data3, Female2_data4, Female2_data5, Female2_data6]\n",
    "female_data = pd.concat(female_data_list,ignore_index=True)"
   ]
  },
  {
   "cell_type": "code",
   "execution_count": 25,
   "metadata": {},
   "outputs": [],
   "source": [
    "male_data_list = [Male1_data1,Male1_data2, Male1_data3, Male1_data4, Male1_data5, Male1_data6, Male2_data1, Male2_data2, Male2_data3, Male2_data4, Male2_data5, Male2_data6]\n",
    "male_data = pd.concat(male_data_list,ignore_index=True)\n"
   ]
  },
  {
   "cell_type": "code",
   "execution_count": null,
   "metadata": {},
   "outputs": [],
   "source": []
  }
 ],
 "metadata": {
  "kernelspec": {
   "display_name": "Python 3",
   "language": "python",
   "name": "python3"
  },
  "language_info": {
   "codemirror_mode": {
    "name": "ipython",
    "version": 3
   },
   "file_extension": ".py",
   "mimetype": "text/x-python",
   "name": "python",
   "nbconvert_exporter": "python",
   "pygments_lexer": "ipython3",
   "version": "3.12.1"
  },
  "orig_nbformat": 4
 },
 "nbformat": 4,
 "nbformat_minor": 2
}
